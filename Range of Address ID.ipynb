{
 "cells": [
  {
   "cell_type": "code",
   "execution_count": 1,
   "metadata": {},
   "outputs": [],
   "source": [
    "# Imports\n",
    "import pandas as pd\n",
    "import numpy as np"
   ]
  },
  {
   "cell_type": "code",
   "execution_count": 2,
   "metadata": {},
   "outputs": [],
   "source": [
    "bh_filepath = 'data/bh_readable.dat'"
   ]
  },
  {
   "cell_type": "code",
   "execution_count": 3,
   "metadata": {},
   "outputs": [],
   "source": [
    "df_block_hash = pd.read_csv(bh_filepath, sep = '\\t')"
   ]
  },
  {
   "cell_type": "code",
   "execution_count": 4,
   "metadata": {},
   "outputs": [],
   "source": [
    "df_block_hash.columns = ['blockID', 'timestamp', 'month', 'year']"
   ]
  },
  {
   "cell_type": "code",
   "execution_count": 9,
   "metadata": {},
   "outputs": [
    {
     "data": {
      "text/html": [
       "<div>\n",
       "<style scoped>\n",
       "    .dataframe tbody tr th:only-of-type {\n",
       "        vertical-align: middle;\n",
       "    }\n",
       "\n",
       "    .dataframe tbody tr th {\n",
       "        vertical-align: top;\n",
       "    }\n",
       "\n",
       "    .dataframe thead th {\n",
       "        text-align: right;\n",
       "    }\n",
       "</style>\n",
       "<table border=\"1\" class=\"dataframe\">\n",
       "  <thead>\n",
       "    <tr style=\"text-align: right;\">\n",
       "      <th></th>\n",
       "      <th>blockID</th>\n",
       "      <th>timestamp</th>\n",
       "      <th>month</th>\n",
       "      <th>year</th>\n",
       "    </tr>\n",
       "  </thead>\n",
       "  <tbody>\n",
       "    <tr>\n",
       "      <th>0</th>\n",
       "      <td>1</td>\n",
       "      <td>1231469665</td>\n",
       "      <td>1</td>\n",
       "      <td>2009</td>\n",
       "    </tr>\n",
       "    <tr>\n",
       "      <th>1</th>\n",
       "      <td>2</td>\n",
       "      <td>1231469744</td>\n",
       "      <td>1</td>\n",
       "      <td>2009</td>\n",
       "    </tr>\n",
       "    <tr>\n",
       "      <th>2</th>\n",
       "      <td>3</td>\n",
       "      <td>1231470173</td>\n",
       "      <td>1</td>\n",
       "      <td>2009</td>\n",
       "    </tr>\n",
       "    <tr>\n",
       "      <th>3</th>\n",
       "      <td>4</td>\n",
       "      <td>1231470988</td>\n",
       "      <td>1</td>\n",
       "      <td>2009</td>\n",
       "    </tr>\n",
       "    <tr>\n",
       "      <th>4</th>\n",
       "      <td>5</td>\n",
       "      <td>1231471428</td>\n",
       "      <td>1</td>\n",
       "      <td>2009</td>\n",
       "    </tr>\n",
       "  </tbody>\n",
       "</table>\n",
       "</div>"
      ],
      "text/plain": [
       "   blockID   timestamp  month  year\n",
       "0        1  1231469665      1  2009\n",
       "1        2  1231469744      1  2009\n",
       "2        3  1231470173      1  2009\n",
       "3        4  1231470988      1  2009\n",
       "4        5  1231471428      1  2009"
      ]
     },
     "execution_count": 9,
     "metadata": {},
     "output_type": "execute_result"
    }
   ],
   "source": [
    "df_block_hash.head()"
   ]
  },
  {
   "cell_type": "code",
   "execution_count": 6,
   "metadata": {},
   "outputs": [],
   "source": [
    "range_block_each_year = {}\n",
    "\n",
    "target_year = df_block_hash[\"year\"][0]"
   ]
  },
  {
   "cell_type": "code",
   "execution_count": 36,
   "metadata": {},
   "outputs": [],
   "source": [
    "target_block_start = 1\n",
    "target_block_end = 1"
   ]
  },
  {
   "cell_type": "code",
   "execution_count": 37,
   "metadata": {},
   "outputs": [],
   "source": [
    "for row in df_block_hash.itertuples():\n",
    "    curr_year = row.year\n",
    "    \n",
    "    if curr_year > target_year:\n",
    "        curr_block_id = row.blockID\n",
    "        \n",
    "        target_block_end = curr_block_id - 1\n",
    "        \n",
    "        range_block_each_year[target_year] = (target_block_start, target_block_end)\n",
    "        \n",
    "        target_block_start = curr_block_id\n",
    "        \n",
    "        target_year += 1\n",
    "        \n",
    "    if target_year == 2018:\n",
    "        break"
   ]
  },
  {
   "cell_type": "code",
   "execution_count": 40,
   "metadata": {},
   "outputs": [
    {
     "name": "stdout",
     "output_type": "stream",
     "text": [
      "{2010: (32527, 100465), 2011: (100466, 160084), 2012: (160085, 214624), 2013: (214625, 278068), 2014: (278069, 336919), 2015: (336920, 391223), 2016: (391224, 446083), 2017: (446084, 502018), 2009: (1, 32526)}\n"
     ]
    }
   ],
   "source": [
    "range_block_each_year[2009] = (1, 32526)\n",
    "print(range_block_each_year)"
   ]
  },
  {
   "cell_type": "code",
   "execution_count": 11,
   "metadata": {},
   "outputs": [],
   "source": [
    "tx_filepath = 'data/tx.dat'"
   ]
  },
  {
   "cell_type": "code",
   "execution_count": 12,
   "metadata": {},
   "outputs": [],
   "source": [
    "df_tx = pd.read_csv(tx_filepath, sep = '\\t')"
   ]
  },
  {
   "cell_type": "code",
   "execution_count": 13,
   "metadata": {},
   "outputs": [],
   "source": [
    "df_tx.columns = ['transactionID', 'blockID']"
   ]
  },
  {
   "cell_type": "code",
   "execution_count": 41,
   "metadata": {},
   "outputs": [],
   "source": [
    "range_tx_each_year = {}"
   ]
  },
  {
   "cell_type": "code",
   "execution_count": 45,
   "metadata": {},
   "outputs": [],
   "source": [
    "for key in range_block_each_year:\n",
    "    value = range_block_each_year[key]\n",
    "    \n",
    "    block_range_start = value[0]\n",
    "    block_range_end = value[1]\n",
    "    \n",
    "    df_curr = df_tx[df_tx['blockID'] == block_range_start]\n",
    "    df_curr.reset_index()\n",
    "    tx_range_start = df_curr.iloc[0]['transactionID']\n",
    "    \n",
    "    df_curr = df_tx[df_tx['blockID'] == block_range_end]\n",
    "    df_curr.reset_index()\n",
    "    tx_range_end = df_curr.iloc[len(df_curr) - 1]['transactionID']\n",
    "    \n",
    "    range_tx_each_year[key] = (tx_range_start, tx_range_end)"
   ]
  },
  {
   "cell_type": "code",
   "execution_count": 46,
   "metadata": {},
   "outputs": [
    {
     "name": "stdout",
     "output_type": "stream",
     "text": [
      "{2010: (32746, 218178), 2011: (218179, 2121061), 2012: (2121062, 10582502), 2013: (10582503, 30228777), 2014: (30228778, 55495675), 2015: (55495676, 101193053), 2016: (101193054, 183831891), 2017: (183831892, 287919354), 2009: (1, 32745)}\n"
     ]
    }
   ],
   "source": [
    "print(range_tx_each_year)"
   ]
  },
  {
   "cell_type": "code",
   "execution_count": 16,
   "metadata": {},
   "outputs": [
    {
     "data": {
      "text/html": [
       "<div>\n",
       "<style scoped>\n",
       "    .dataframe tbody tr th:only-of-type {\n",
       "        vertical-align: middle;\n",
       "    }\n",
       "\n",
       "    .dataframe tbody tr th {\n",
       "        vertical-align: top;\n",
       "    }\n",
       "\n",
       "    .dataframe thead th {\n",
       "        text-align: right;\n",
       "    }\n",
       "</style>\n",
       "<table border=\"1\" class=\"dataframe\">\n",
       "  <thead>\n",
       "    <tr style=\"text-align: right;\">\n",
       "      <th></th>\n",
       "      <th>transactionID</th>\n",
       "      <th>blockID</th>\n",
       "    </tr>\n",
       "  </thead>\n",
       "  <tbody>\n",
       "    <tr>\n",
       "      <th>0</th>\n",
       "      <td>1</td>\n",
       "      <td>1</td>\n",
       "    </tr>\n",
       "    <tr>\n",
       "      <th>1</th>\n",
       "      <td>2</td>\n",
       "      <td>2</td>\n",
       "    </tr>\n",
       "    <tr>\n",
       "      <th>2</th>\n",
       "      <td>3</td>\n",
       "      <td>3</td>\n",
       "    </tr>\n",
       "    <tr>\n",
       "      <th>3</th>\n",
       "      <td>4</td>\n",
       "      <td>4</td>\n",
       "    </tr>\n",
       "    <tr>\n",
       "      <th>4</th>\n",
       "      <td>5</td>\n",
       "      <td>5</td>\n",
       "    </tr>\n",
       "  </tbody>\n",
       "</table>\n",
       "</div>"
      ],
      "text/plain": [
       "   transactionID  blockID\n",
       "0              1        1\n",
       "1              2        2\n",
       "2              3        3\n",
       "3              4        4\n",
       "4              5        5"
      ]
     },
     "execution_count": 16,
     "metadata": {},
     "output_type": "execute_result"
    }
   ],
   "source": [
    "df_tx.head()"
   ]
  },
  {
   "cell_type": "code",
   "execution_count": 17,
   "metadata": {},
   "outputs": [],
   "source": [
    "dfhaha = df_tx[df_tx['blockID'] == 100427]"
   ]
  },
  {
   "cell_type": "code",
   "execution_count": 22,
   "metadata": {},
   "outputs": [
    {
     "data": {
      "text/html": [
       "<div>\n",
       "<style scoped>\n",
       "    .dataframe tbody tr th:only-of-type {\n",
       "        vertical-align: middle;\n",
       "    }\n",
       "\n",
       "    .dataframe tbody tr th {\n",
       "        vertical-align: top;\n",
       "    }\n",
       "\n",
       "    .dataframe thead th {\n",
       "        text-align: right;\n",
       "    }\n",
       "</style>\n",
       "<table border=\"1\" class=\"dataframe\">\n",
       "  <thead>\n",
       "    <tr style=\"text-align: right;\">\n",
       "      <th></th>\n",
       "      <th>transactionID</th>\n",
       "      <th>blockID</th>\n",
       "    </tr>\n",
       "  </thead>\n",
       "  <tbody>\n",
       "    <tr>\n",
       "      <th>218082</th>\n",
       "      <td>218083</td>\n",
       "      <td>100427</td>\n",
       "    </tr>\n",
       "    <tr>\n",
       "      <th>218083</th>\n",
       "      <td>218084</td>\n",
       "      <td>100427</td>\n",
       "    </tr>\n",
       "    <tr>\n",
       "      <th>218084</th>\n",
       "      <td>218085</td>\n",
       "      <td>100427</td>\n",
       "    </tr>\n",
       "    <tr>\n",
       "      <th>218085</th>\n",
       "      <td>218086</td>\n",
       "      <td>100427</td>\n",
       "    </tr>\n",
       "    <tr>\n",
       "      <th>218086</th>\n",
       "      <td>218087</td>\n",
       "      <td>100427</td>\n",
       "    </tr>\n",
       "    <tr>\n",
       "      <th>218087</th>\n",
       "      <td>218088</td>\n",
       "      <td>100427</td>\n",
       "    </tr>\n",
       "    <tr>\n",
       "      <th>218088</th>\n",
       "      <td>218089</td>\n",
       "      <td>100427</td>\n",
       "    </tr>\n",
       "    <tr>\n",
       "      <th>218089</th>\n",
       "      <td>218090</td>\n",
       "      <td>100427</td>\n",
       "    </tr>\n",
       "    <tr>\n",
       "      <th>218090</th>\n",
       "      <td>218091</td>\n",
       "      <td>100427</td>\n",
       "    </tr>\n",
       "    <tr>\n",
       "      <th>218091</th>\n",
       "      <td>218092</td>\n",
       "      <td>100427</td>\n",
       "    </tr>\n",
       "    <tr>\n",
       "      <th>218092</th>\n",
       "      <td>218093</td>\n",
       "      <td>100427</td>\n",
       "    </tr>\n",
       "  </tbody>\n",
       "</table>\n",
       "</div>"
      ],
      "text/plain": [
       "        transactionID  blockID\n",
       "218082         218083   100427\n",
       "218083         218084   100427\n",
       "218084         218085   100427\n",
       "218085         218086   100427\n",
       "218086         218087   100427\n",
       "218087         218088   100427\n",
       "218088         218089   100427\n",
       "218089         218090   100427\n",
       "218090         218091   100427\n",
       "218091         218092   100427\n",
       "218092         218093   100427"
      ]
     },
     "execution_count": 22,
     "metadata": {},
     "output_type": "execute_result"
    }
   ],
   "source": [
    "dfhaha"
   ]
  },
  {
   "cell_type": "code",
   "execution_count": 27,
   "metadata": {},
   "outputs": [
    {
     "data": {
      "text/html": [
       "<div>\n",
       "<style scoped>\n",
       "    .dataframe tbody tr th:only-of-type {\n",
       "        vertical-align: middle;\n",
       "    }\n",
       "\n",
       "    .dataframe tbody tr th {\n",
       "        vertical-align: top;\n",
       "    }\n",
       "\n",
       "    .dataframe thead th {\n",
       "        text-align: right;\n",
       "    }\n",
       "</style>\n",
       "<table border=\"1\" class=\"dataframe\">\n",
       "  <thead>\n",
       "    <tr style=\"text-align: right;\">\n",
       "      <th></th>\n",
       "      <th>index</th>\n",
       "      <th>transactionID</th>\n",
       "      <th>blockID</th>\n",
       "    </tr>\n",
       "  </thead>\n",
       "  <tbody>\n",
       "    <tr>\n",
       "      <th>0</th>\n",
       "      <td>218082</td>\n",
       "      <td>218083</td>\n",
       "      <td>100427</td>\n",
       "    </tr>\n",
       "    <tr>\n",
       "      <th>1</th>\n",
       "      <td>218083</td>\n",
       "      <td>218084</td>\n",
       "      <td>100427</td>\n",
       "    </tr>\n",
       "    <tr>\n",
       "      <th>2</th>\n",
       "      <td>218084</td>\n",
       "      <td>218085</td>\n",
       "      <td>100427</td>\n",
       "    </tr>\n",
       "    <tr>\n",
       "      <th>3</th>\n",
       "      <td>218085</td>\n",
       "      <td>218086</td>\n",
       "      <td>100427</td>\n",
       "    </tr>\n",
       "    <tr>\n",
       "      <th>4</th>\n",
       "      <td>218086</td>\n",
       "      <td>218087</td>\n",
       "      <td>100427</td>\n",
       "    </tr>\n",
       "    <tr>\n",
       "      <th>5</th>\n",
       "      <td>218087</td>\n",
       "      <td>218088</td>\n",
       "      <td>100427</td>\n",
       "    </tr>\n",
       "    <tr>\n",
       "      <th>6</th>\n",
       "      <td>218088</td>\n",
       "      <td>218089</td>\n",
       "      <td>100427</td>\n",
       "    </tr>\n",
       "    <tr>\n",
       "      <th>7</th>\n",
       "      <td>218089</td>\n",
       "      <td>218090</td>\n",
       "      <td>100427</td>\n",
       "    </tr>\n",
       "    <tr>\n",
       "      <th>8</th>\n",
       "      <td>218090</td>\n",
       "      <td>218091</td>\n",
       "      <td>100427</td>\n",
       "    </tr>\n",
       "    <tr>\n",
       "      <th>9</th>\n",
       "      <td>218091</td>\n",
       "      <td>218092</td>\n",
       "      <td>100427</td>\n",
       "    </tr>\n",
       "    <tr>\n",
       "      <th>10</th>\n",
       "      <td>218092</td>\n",
       "      <td>218093</td>\n",
       "      <td>100427</td>\n",
       "    </tr>\n",
       "  </tbody>\n",
       "</table>\n",
       "</div>"
      ],
      "text/plain": [
       "     index  transactionID  blockID\n",
       "0   218082         218083   100427\n",
       "1   218083         218084   100427\n",
       "2   218084         218085   100427\n",
       "3   218085         218086   100427\n",
       "4   218086         218087   100427\n",
       "5   218087         218088   100427\n",
       "6   218088         218089   100427\n",
       "7   218089         218090   100427\n",
       "8   218090         218091   100427\n",
       "9   218091         218092   100427\n",
       "10  218092         218093   100427"
      ]
     },
     "execution_count": 27,
     "metadata": {},
     "output_type": "execute_result"
    }
   ],
   "source": [
    "dfhaha.reset_index()"
   ]
  },
  {
   "cell_type": "code",
   "execution_count": 43,
   "metadata": {},
   "outputs": [
    {
     "data": {
      "text/plain": [
       "218083"
      ]
     },
     "execution_count": 43,
     "metadata": {},
     "output_type": "execute_result"
    }
   ],
   "source": [
    "dfhaha.iloc[len(dfhaha) - 1]['transactionID']"
   ]
  },
  {
   "cell_type": "code",
   "execution_count": null,
   "metadata": {},
   "outputs": [],
   "source": []
  }
 ],
 "metadata": {
  "kernelspec": {
   "display_name": "Python 3",
   "language": "python",
   "name": "python3"
  },
  "language_info": {
   "codemirror_mode": {
    "name": "ipython",
    "version": 3
   },
   "file_extension": ".py",
   "mimetype": "text/x-python",
   "name": "python",
   "nbconvert_exporter": "python",
   "pygments_lexer": "ipython3",
   "version": "3.7.2"
  }
 },
 "nbformat": 4,
 "nbformat_minor": 2
}
