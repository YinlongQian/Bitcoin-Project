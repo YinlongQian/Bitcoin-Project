{
 "cells": [
  {
   "cell_type": "markdown",
   "metadata": {},
   "source": [
    "## COGS 108 - Final Project"
   ]
  },
  {
   "cell_type": "markdown",
   "metadata": {},
   "source": [
    "## Introduction and Background"
   ]
  },
  {
   "cell_type": "markdown",
   "metadata": {},
   "source": [
    "Bitcoin is the world's first online, decentralized, peer to peer currency. Its creator intended for it to be used instead of fiat controlled by the governments and banks. Although the mainstream news outlets have began reporting on it because of the recent price jumps. General usage of Bitcoin users have not been studied extensively.\n",
    "\n",
    "Cryptocurrency is very young, it was only introduced in 2008. It is a concept that continues to remain a mystery for most people, and yet the concept surrounding it is steadily gaining popularity and increasing interest, especially among major financial institutions such as banks, governments, and large tech companies. In fact, nearly all major financial firms and prominent software companies have by now performed substantial research on various types of cryptocurrency. This suggests a question of whether cryptocurrency will soon become the foundation of the world’s economy, or in the very least be a widely used form of currency among people in the near future.\n",
    "\n",
    "According to Forbes, a cryptocurrency such as Bitcoin will gradually rise in popularity and will become a widespread form of commonly used currency because of its reliability, in that it can’t be bounced or charged back, and works 24/7, 365 days a year. It is easily accessible during emergencies, such as earthquakes and hurricanes, while a bank could be shut down. This information would suggest that users would be increasing their activity using Bitcoin, and therefore lead to the logical hypothesis that older users are steadily becoming more active users of the Bitcoin platform."
   ]
  },
  {
   "cell_type": "markdown",
   "metadata": {},
   "source": [
    "## Part 0: Setup"
   ]
  },
  {
   "cell_type": "code",
   "execution_count": 65,
   "metadata": {},
   "outputs": [],
   "source": [
    "# Imports\n",
    "import pandas as pd\n",
    "import numpy as np\n",
    "import random as rd\n",
    "import matplotlib.pyplot as plt"
   ]
  },
  {
   "cell_type": "markdown",
   "metadata": {},
   "source": [
    "## Part 1: Data Cleaning"
   ]
  },
  {
   "cell_type": "markdown",
   "metadata": {},
   "source": [
    "## 1a) Condense dat files: block hash, transaction overview\n",
    "Drop irrelevant columns in bh.dat and tx.dat; store result dataframes to bh.dat and tx.dat.\n",
    "\n",
    "Result:\n",
    "\n",
    "bh.dat: \n",
    "\n",
    "| Block ID | Block Timestamp |\n",
    "\n",
    "tx.dat: \n",
    "\n",
    "|Transaction ID | Block ID |"
   ]
  },
  {
   "cell_type": "code",
   "execution_count": null,
   "metadata": {},
   "outputs": [],
   "source": [
    "# file path for data\n",
    "bh_filepath = 'data/bh.dat'\n",
    "tx_filepath = 'data/tx.dat'\n",
    "\n",
    "# read data\n",
    "df_block_hash = pd.read_csv(bh_filepath, sep = '\\t')\n",
    "df_transaction = pd.read_csv(tx_filepath, sep = '\\t')\n",
    "\n",
    "# set column names\n",
    "df_block_hash.columns = ['block ID', 'hash', 'timestamp', 'number of transactions']\n",
    "df_transaction.columns = ['transaction ID', 'block ID', 'input count', 'output count']\n",
    "\n",
    "# drop irrelevant columns\n",
    "df_block_hash.drop(['hash', 'number of transactions'], axis = 1, inplace = True)\n",
    "df_transaction.drop(['input count', 'output count'], axis = 1, inplace = True)\n",
    "\n",
    "# check head after drop\n",
    "print(df_block_hash.head())\n",
    "print(df_transaction.head())\n",
    "\n",
    "# write block hash dataframe to a new dat file\n",
    "bh_drop_filepath = 'data/bh.dat'\n",
    "df_block_hash.to_csv(path_or_buf = bh_drop_filepath, sep = '\\t', index = False, columns = ['block ID', 'timestamp'])\n",
    "\n",
    "tx_drop_filepath = 'data/tx.dat'\n",
    "df_transaction.to_csv(path_or_buf = tx_drop_filepath, sep = '\\t', index = False, \n",
    "                      columns = ['transaction ID', 'block ID'])"
   ]
  },
  {
   "cell_type": "markdown",
   "metadata": {},
   "source": [
    "## 1b) Condense dat files: transaction input\n",
    "Split txin.dat to small dat files; drop irrelevant columns; store result dataframes to txin_1.dat to txin_11.dat.\n",
    "\n",
    "Result:\n",
    "\n",
    "txin_1.dat - txin_11.dat: \n",
    "\n",
    "| Transaction ID | Address ID |"
   ]
  },
  {
   "cell_type": "code",
   "execution_count": null,
   "metadata": {},
   "outputs": [],
   "source": [
    "# split transaction_input file\n",
    "!split -l 70000000 data/txin.dat t\n",
    "\n",
    "# set filepath\n",
    "num_txin_file = 11\n",
    "\n",
    "txin_input_filepath = ['txin/taa', 'txin/tab', 'txin/tac', 'txin/tad', 'txin/tae', 'txin/taf', 'txin/tag', 'txin/tah',\n",
    "                      'txin/tai', 'txin/taj', 'txin/tak']\n",
    "txin_output_filepath = ['txin/txin_1.dat', 'txin/txin_2.dat', 'txin/txin_3.dat', 'txin/txin_4.dat', 'txin/txin_5.dat', \n",
    "                        'txin/txin_6.dat', 'txin/txin_7.dat', 'txin/txin_8.dat', 'txin/txin_9.dat', 'txin/txin_10.dat', \n",
    "                        'txin/txin_11.dat']\n",
    "\n",
    "# for loop to drop irrelevant columns in transaction_input\n",
    "for x in range(num_txin_file):\n",
    "    curr_input_filepath = txin_input_filepath[x]\n",
    "    curr_output_filepath = txin_output_filepath[x]\n",
    "    \n",
    "    df_txin = pd.read_csv(curr_input_filepath, sep = '\\t')\n",
    "    \n",
    "    df_txin.columns = ['transaction ID', 'input sequence', 'previous transaction ID', 'previous output sequence', \n",
    "                       'address ID', 'sum']\n",
    "    \n",
    "    df_txin.drop(['input sequence', 'previous transaction ID', 'previous output sequence', 'sum'], \n",
    "                 axis = 1, inplace = True)\n",
    "    \n",
    "    df_txin.to_csv(path_or_buf = curr_output_filepath, sep = '\\t', index = False, \n",
    "                   columns = ['transaction ID', 'address ID'])"
   ]
  },
  {
   "cell_type": "markdown",
   "metadata": {},
   "source": [
    "## 1c) Condense dat files: transaction output\n",
    "Split txout.dat to small dat files; drop irrelevant columns; store result dataframes to txout_1.dat to txout_12.dat.\n",
    "\n",
    "Result:\n",
    "\n",
    "txout_1.dat - txout_12.dat: \n",
    "\n",
    "| Transaction ID | Address ID |"
   ]
  },
  {
   "cell_type": "code",
   "execution_count": null,
   "metadata": {},
   "outputs": [],
   "source": [
    "# split transaction_output file\n",
    "!split -l 70000000 data/txout.dat m\n",
    "\n",
    "# set filepath\n",
    "num_txout_file = 12\n",
    "\n",
    "txout_input_filepath = ['txout/maa', 'txout/mab', 'txout/mac', 'txout/mad', 'txout/mae', 'txout/maf', 'txout/mag', \n",
    "                        'txout/mah', 'txout/mai', 'txout/maj', 'txout/mak', 'txout/mal']\n",
    "txout_output_filepath = ['txout/txout_1.dat', 'txout/txout_2.dat', 'txout/txout_3.dat', 'txout/txout_4.dat', \n",
    "                         'txout/txout_5.dat', 'txout/txout_6.dat', 'txout/txout_7.dat', 'txout/txout_8.dat', \n",
    "                         'txout/txout_9.dat', 'txout/txout_10.dat', 'txout/txout_11.dat', 'txout/txout_12.dat']\n",
    "\n",
    "# for loop to drop irrelevant columns in transaction_output\n",
    "for x in range(num_txout_file):\n",
    "    curr_input_filepath = txout_input_filepath[x]\n",
    "    curr_output_filepath = txout_output_filepath[x]\n",
    "    \n",
    "    df_txout = pd.read_csv(curr_input_filepath, sep = '\\t')\n",
    "    \n",
    "    df_txout.columns = ['transaction ID', 'output sequence', 'address ID', 'sum']\n",
    "    \n",
    "    df_txout.drop(['output sequence', 'sum'], axis = 1, inplace = True)\n",
    "    \n",
    "    df_txout.to_csv(path_or_buf = curr_output_filepath, sep = '\\t', index = False, \n",
    "                   columns = ['transaction ID', 'address ID'])"
   ]
  },
  {
   "cell_type": "markdown",
   "metadata": {},
   "source": [
    "## 1d) Convert UNIX time to standard time\n",
    "Implement a function that converts UNIX to standard time; add a column \"year\" in bh.dat.\n",
    "\n",
    "Before: \n",
    "\n",
    "| Block ID | Block Timestamp |\n",
    "\n",
    "After: \n",
    "\n",
    "| Block ID | Block Timestamp | Month | Year |"
   ]
  },
  {
   "cell_type": "code",
   "execution_count": null,
   "metadata": {},
   "outputs": [],
   "source": [
    "from datetime import datetime\n",
    "file='bh_simplified.dat'\n",
    "\n",
    "df=pd.read_csv(file, sep='\\t')\n",
    "\n",
    "def getYear(data):\n",
    "    d=datetime.fromtimestamp(data)\n",
    "    return d.timetuple().tm_year\n",
    "def getMonth(data):\n",
    "    d=datetime.fromtimestamp(data)\n",
    "    return d.timetuple().tm_mon\n",
    "\n",
    "df['month']=df['timestamp'].apply(getMonth)\n",
    "df['year']=df['timestamp'].apply(getYear)\n",
    "\n",
    "df.to_csv('bh_readable.dat', sep='\\t', index=False)"
   ]
  },
  {
   "cell_type": "markdown",
   "metadata": {},
   "source": [
    "## 1e) Range of Block IDs for each year"
   ]
  },
  {
   "cell_type": "code",
   "execution_count": null,
   "metadata": {},
   "outputs": [],
   "source": [
    "bh_filepath = 'data/bh_readable.dat'\n",
    "df_block_hash = pd.read_csv(bh_filepath, sep = '\\t')\n",
    "df_block_hash.columns = ['blockID', 'timestamp', 'month', 'year']\n",
    "df_block_hash.head()\n",
    "\n",
    "range_block_each_year = {}\n",
    "\n",
    "target_year = df_block_hash[\"year\"][0]\n",
    "\n",
    "target_block_start = 1\n",
    "target_block_end = 1\n",
    "\n",
    "for row in df_block_hash.itertuples():\n",
    "    curr_year = row.year\n",
    "    \n",
    "    if curr_year > target_year:\n",
    "        curr_block_id = row.blockID\n",
    "        \n",
    "        target_block_end = curr_block_id - 1\n",
    "        \n",
    "        range_block_each_year[target_year] = (target_block_start, target_block_end)\n",
    "        \n",
    "        target_block_start = curr_block_id\n",
    "        \n",
    "        target_year += 1\n",
    "        \n",
    "    if target_year == 2018:\n",
    "        break\n",
    "        \n",
    "print(range_block_each_year)"
   ]
  },
  {
   "cell_type": "markdown",
   "metadata": {},
   "source": [
    "## 1f) Range of Transaction IDs for each year"
   ]
  },
  {
   "cell_type": "code",
   "execution_count": null,
   "metadata": {},
   "outputs": [],
   "source": [
    "tx_filepath = 'data/tx.dat'\n",
    "df_tx = pd.read_csv(tx_filepath, sep = '\\t')\n",
    "df_tx.columns = ['transactionID', 'blockID']\n",
    "\n",
    "range_tx_each_year = {}\n",
    "\n",
    "for key in range_block_each_year:\n",
    "    value = range_block_each_year[key]\n",
    "    \n",
    "    block_range_start = value[0]\n",
    "    block_range_end = value[1]\n",
    "    \n",
    "    df_curr = df_tx[df_tx['blockID'] == block_range_start]\n",
    "    df_curr.reset_index()\n",
    "    tx_range_start = df_curr.iloc[0]['transactionID']\n",
    "    \n",
    "    df_curr = df_tx[df_tx['blockID'] == block_range_end]\n",
    "    df_curr.reset_index()\n",
    "    tx_range_end = df_curr.iloc[len(df_curr) - 1]['transactionID']\n",
    "    \n",
    "    range_tx_each_year[key] = (tx_range_start, tx_range_end)\n",
    "    \n",
    "print(range_tx_each_year)"
   ]
  },
  {
   "cell_type": "markdown",
   "metadata": {},
   "source": [
    "## 1g) Re-split tx_in dat files into one-year time period"
   ]
  },
  {
   "cell_type": "markdown",
   "metadata": {},
   "source": [
    "Used UNIX Commands to re-split up into 1-year chunks."
   ]
  },
  {
   "cell_type": "markdown",
   "metadata": {},
   "source": [
    "## Part 2: Create Dataframe for Samples from 2011\n",
    "1. We first had to find the range of new address ids from the year 2011.\n",
    "2. Once we had our range, we need to collect our sample users which we were going to study.\n",
    "3. With our sample in hand, we counted the amount of transactions per year address id."
   ]
  },
  {
   "cell_type": "markdown",
   "metadata": {},
   "source": [
    "## 2a) Sample Address IDs created in 2011"
   ]
  },
  {
   "cell_type": "code",
   "execution_count": 2,
   "metadata": {},
   "outputs": [],
   "source": [
    "df_samples = pd.DataFrame(columns = ['address ID'])"
   ]
  },
  {
   "cell_type": "code",
   "execution_count": 3,
   "metadata": {},
   "outputs": [],
   "source": [
    "data10 = pd.read_csv('TxinFiles/txin_2010.dat', sep='\\t')"
   ]
  },
  {
   "cell_type": "code",
   "execution_count": 4,
   "metadata": {},
   "outputs": [],
   "source": [
    "# get the largest address ID that is created in 2010\n",
    "max_addr_ID = data10['address ID'].max()"
   ]
  },
  {
   "cell_type": "code",
   "execution_count": 5,
   "metadata": {},
   "outputs": [],
   "source": [
    "data11 = pd.read_csv('TxinFiles/txin_2011.dat', sep='\\t')"
   ]
  },
  {
   "cell_type": "code",
   "execution_count": 6,
   "metadata": {},
   "outputs": [],
   "source": [
    "# get the range of address ID that is created in 2011\n",
    "min_addr_ID = max_addr_ID + 1\n",
    "max_addr_ID = data11['address ID'].max()"
   ]
  },
  {
   "cell_type": "code",
   "execution_count": 8,
   "metadata": {},
   "outputs": [],
   "source": [
    "num_sample = 50\n",
    "lower_bound = 100\n",
    "count = 0\n",
    "\n",
    "while count < 50:\n",
    "    rand_sample_ID = rd.randint(min_addr_ID, max_addr_ID)\n",
    "    \n",
    "    df_ID_exclusive = data11[data11['address ID'] == rand_sample_ID]\n",
    "    \n",
    "    num_tx_2011 = len(df_ID_exclusive)\n",
    "    \n",
    "    if(num_tx_2011 >= lower_bound):\n",
    "        df_samples.loc[count, 'address ID'] = rand_sample_ID\n",
    "        \n",
    "        count += 1"
   ]
  },
  {
   "cell_type": "markdown",
   "metadata": {},
   "source": [
    "## 2b) Aggregate Number of Transactions Each Year"
   ]
  },
  {
   "cell_type": "code",
   "execution_count": 9,
   "metadata": {},
   "outputs": [],
   "source": [
    "df_samples['tx2011'] = 0\n",
    "\n",
    "for x in range(len(df_samples)):\n",
    "    curr_addr_ID = df_samples.loc[x]['address ID']\n",
    "    \n",
    "    df_ID_exclusive = data11[data11['address ID'] == curr_addr_ID]\n",
    "    \n",
    "    df_samples.loc[x, 'tx2011'] = len(df_ID_exclusive)"
   ]
  },
  {
   "cell_type": "code",
   "execution_count": 11,
   "metadata": {},
   "outputs": [],
   "source": [
    "data12 = pd.read_csv('TxinFiles/txin_2012.dat', sep='\\t')"
   ]
  },
  {
   "cell_type": "code",
   "execution_count": 12,
   "metadata": {},
   "outputs": [],
   "source": [
    "df_samples['tx2012'] = 0\n",
    "\n",
    "for x in range(len(df_samples)):\n",
    "    curr_addr_ID = df_samples.loc[x]['address ID']\n",
    "    \n",
    "    df_ID_exclusive = data12[data12['address ID'] == curr_addr_ID]\n",
    "    \n",
    "    df_samples.loc[x, 'tx2012'] = len(df_ID_exclusive)"
   ]
  },
  {
   "cell_type": "code",
   "execution_count": 14,
   "metadata": {},
   "outputs": [],
   "source": [
    "data13 = pd.read_csv('TxinFiles/txin_2013.dat', sep='\\t')"
   ]
  },
  {
   "cell_type": "code",
   "execution_count": 15,
   "metadata": {},
   "outputs": [],
   "source": [
    "df_samples['tx2013'] = 0\n",
    "\n",
    "for x in range(len(df_samples)):\n",
    "    curr_addr_ID = df_samples.loc[x]['address ID']\n",
    "    \n",
    "    df_ID_exclusive = data13[data13['address ID'] == curr_addr_ID]\n",
    "    \n",
    "    df_samples.loc[x, 'tx2013'] = len(df_ID_exclusive)"
   ]
  },
  {
   "cell_type": "code",
   "execution_count": 17,
   "metadata": {},
   "outputs": [],
   "source": [
    "data14 = pd.read_csv('TxinFiles/txin_2014.dat', sep='\\t')"
   ]
  },
  {
   "cell_type": "code",
   "execution_count": 18,
   "metadata": {},
   "outputs": [],
   "source": [
    "df_samples['tx2014'] = 0\n",
    "\n",
    "for x in range(len(df_samples)):\n",
    "    curr_addr_ID = df_samples.loc[x]['address ID']\n",
    "    \n",
    "    df_ID_exclusive = data14[data14['address ID'] == curr_addr_ID]\n",
    "    \n",
    "    df_samples.loc[x, 'tx2014'] = len(df_ID_exclusive)"
   ]
  },
  {
   "cell_type": "code",
   "execution_count": 19,
   "metadata": {},
   "outputs": [],
   "source": [
    "data15 = pd.read_csv('TxinFiles/txin_2015.dat', sep='\\t')"
   ]
  },
  {
   "cell_type": "code",
   "execution_count": 20,
   "metadata": {},
   "outputs": [],
   "source": [
    "df_samples['tx2015'] = 0\n",
    "\n",
    "for x in range(len(df_samples)):\n",
    "    curr_addr_ID = df_samples.loc[x]['address ID']\n",
    "    \n",
    "    df_ID_exclusive = data15[data15['address ID'] == curr_addr_ID]\n",
    "    \n",
    "    df_samples.loc[x, 'tx2015'] = len(df_ID_exclusive)"
   ]
  },
  {
   "cell_type": "code",
   "execution_count": 21,
   "metadata": {},
   "outputs": [
    {
     "name": "stderr",
     "output_type": "stream",
     "text": [
      "/Users/hairy/anaconda2/envs/n/lib/python3.7/site-packages/IPython/core/interactiveshell.py:3020: DtypeWarning: Columns (1) have mixed types. Specify dtype option on import or set low_memory=False.\n",
      "  interactivity=interactivity, compiler=compiler, result=result)\n"
     ]
    }
   ],
   "source": [
    "data16 = pd.read_csv('TxinFiles/txin_2016.dat', sep='\\t')"
   ]
  },
  {
   "cell_type": "code",
   "execution_count": 22,
   "metadata": {},
   "outputs": [],
   "source": [
    "df_samples['tx2016'] = 0\n",
    "\n",
    "for x in range(len(df_samples)):\n",
    "    curr_addr_ID = df_samples.loc[x]['address ID']\n",
    "    \n",
    "    df_ID_exclusive = data16[data16['address ID'] == curr_addr_ID]\n",
    "    \n",
    "    df_samples.loc[x, 'tx2016'] = len(df_ID_exclusive)"
   ]
  },
  {
   "cell_type": "code",
   "execution_count": 23,
   "metadata": {},
   "outputs": [],
   "source": [
    "data17 = pd.read_csv('TxinFiles/txin_2017.dat', sep='\\t')"
   ]
  },
  {
   "cell_type": "code",
   "execution_count": 24,
   "metadata": {},
   "outputs": [],
   "source": [
    "df_samples['tx2017'] = 0\n",
    "\n",
    "for x in range(len(df_samples)):\n",
    "    curr_addr_ID = df_samples.loc[x]['address ID']\n",
    "    \n",
    "    df_ID_exclusive = data17[data17['address ID'] == curr_addr_ID]\n",
    "    \n",
    "    df_samples.loc[x, 'tx2017'] = len(df_ID_exclusive)"
   ]
  },
  {
   "cell_type": "code",
   "execution_count": 27,
   "metadata": {},
   "outputs": [
    {
     "data": {
      "text/html": [
       "<div>\n",
       "<style scoped>\n",
       "    .dataframe tbody tr th:only-of-type {\n",
       "        vertical-align: middle;\n",
       "    }\n",
       "\n",
       "    .dataframe tbody tr th {\n",
       "        vertical-align: top;\n",
       "    }\n",
       "\n",
       "    .dataframe thead th {\n",
       "        text-align: right;\n",
       "    }\n",
       "</style>\n",
       "<table border=\"1\" class=\"dataframe\">\n",
       "  <thead>\n",
       "    <tr style=\"text-align: right;\">\n",
       "      <th></th>\n",
       "      <th>address ID</th>\n",
       "      <th>tx2011</th>\n",
       "      <th>tx2012</th>\n",
       "      <th>tx2013</th>\n",
       "      <th>tx2014</th>\n",
       "      <th>tx2015</th>\n",
       "      <th>tx2016</th>\n",
       "      <th>tx2017</th>\n",
       "    </tr>\n",
       "  </thead>\n",
       "  <tbody>\n",
       "    <tr>\n",
       "      <th>0</th>\n",
       "      <td>1084197.0</td>\n",
       "      <td>137</td>\n",
       "      <td>25</td>\n",
       "      <td>0</td>\n",
       "      <td>0</td>\n",
       "      <td>0</td>\n",
       "      <td>0</td>\n",
       "      <td>0</td>\n",
       "    </tr>\n",
       "    <tr>\n",
       "      <th>1</th>\n",
       "      <td>922761.0</td>\n",
       "      <td>103</td>\n",
       "      <td>1</td>\n",
       "      <td>7</td>\n",
       "      <td>0</td>\n",
       "      <td>0</td>\n",
       "      <td>0</td>\n",
       "      <td>0</td>\n",
       "    </tr>\n",
       "    <tr>\n",
       "      <th>2</th>\n",
       "      <td>525152.0</td>\n",
       "      <td>108</td>\n",
       "      <td>73</td>\n",
       "      <td>10</td>\n",
       "      <td>0</td>\n",
       "      <td>0</td>\n",
       "      <td>0</td>\n",
       "      <td>0</td>\n",
       "    </tr>\n",
       "    <tr>\n",
       "      <th>3</th>\n",
       "      <td>827446.0</td>\n",
       "      <td>136</td>\n",
       "      <td>15</td>\n",
       "      <td>0</td>\n",
       "      <td>0</td>\n",
       "      <td>0</td>\n",
       "      <td>0</td>\n",
       "      <td>0</td>\n",
       "    </tr>\n",
       "    <tr>\n",
       "      <th>4</th>\n",
       "      <td>828949.0</td>\n",
       "      <td>130</td>\n",
       "      <td>0</td>\n",
       "      <td>0</td>\n",
       "      <td>0</td>\n",
       "      <td>0</td>\n",
       "      <td>0</td>\n",
       "      <td>0</td>\n",
       "    </tr>\n",
       "  </tbody>\n",
       "</table>\n",
       "</div>"
      ],
      "text/plain": [
       "   address ID  tx2011  tx2012  tx2013  tx2014  tx2015  tx2016  tx2017\n",
       "0   1084197.0     137      25       0       0       0       0       0\n",
       "1    922761.0     103       1       7       0       0       0       0\n",
       "2    525152.0     108      73      10       0       0       0       0\n",
       "3    827446.0     136      15       0       0       0       0       0\n",
       "4    828949.0     130       0       0       0       0       0       0"
      ]
     },
     "execution_count": 27,
     "metadata": {},
     "output_type": "execute_result"
    }
   ],
   "source": [
    "df_samples.head()"
   ]
  },
  {
   "cell_type": "markdown",
   "metadata": {},
   "source": [
    "## Part 3: Data Visualization of Samples from 2011\n",
    "* We visualized the data in several ways in order to identify the activity of the address ids over time."
   ]
  },
  {
   "cell_type": "markdown",
   "metadata": {},
   "source": [
    "## 3a) Sum"
   ]
  },
  {
   "cell_type": "code",
   "execution_count": 61,
   "metadata": {},
   "outputs": [],
   "source": [
    "years = np.array(['2011', '2012', '2013', '2014', '2015', '2016', '2017'])\n",
    "sum_tx = np.array([0] * 7)"
   ]
  },
  {
   "cell_type": "code",
   "execution_count": 62,
   "metadata": {},
   "outputs": [],
   "source": [
    "for x in range(len(years)):\n",
    "    sum_tx[x] = df_samples[ \"tx\" + years[x]].sum()"
   ]
  },
  {
   "cell_type": "code",
   "execution_count": 82,
   "metadata": {},
   "outputs": [],
   "source": [
    "years_num = [2011, 2012, 2013, 2014, 2015, 2016, 2017]"
   ]
  },
  {
   "cell_type": "code",
   "execution_count": 78,
   "metadata": {},
   "outputs": [
    {
     "data": {
      "image/png": "[encoded data removed]",
      "text/plain": [
       "<Figure size 432x288 with 1 Axes>"
      ]
     },
     "metadata": {
      "needs_background": "light"
     },
     "output_type": "display_data"
    }
   ],
   "source": [
    "# plot bar chart\n",
    "plt.bar(years_num, sum_tx)\n",
    "plt.xlabel('Year')\n",
    "plt.ylabel('Total Transaction')\n",
    "plt.title('Sum of transactions over time')\n",
    "plt.show()"
   ]
  },
  {
   "cell_type": "markdown",
   "metadata": {},
   "source": [
    "## 3b) Mean"
   ]
  },
  {
   "cell_type": "code",
   "execution_count": 79,
   "metadata": {},
   "outputs": [],
   "source": [
    "mean_tx = np.array([0] * 7)"
   ]
  },
  {
   "cell_type": "code",
   "execution_count": 81,
   "metadata": {},
   "outputs": [],
   "source": [
    "for x in range(len(years)):\n",
    "    mean_tx[x] = df_samples[ \"tx\" + years[x]].mean()"
   ]
  },
  {
   "cell_type": "code",
   "execution_count": 83,
   "metadata": {},
   "outputs": [
    {
     "data": {
      "image/png": "[encoded data removed]",
      "text/plain": [
       "<Figure size 432x288 with 1 Axes>"
      ]
     },
     "metadata": {
      "needs_background": "light"
     },
     "output_type": "display_data"
    }
   ],
   "source": [
    "# plot bar chart\n",
    "plt.bar(years_num, mean_tx)\n",
    "plt.xlabel('Year')\n",
    "plt.ylabel('Average Transaction')\n",
    "plt.title('Average of transactions over time')\n",
    "plt.show()"
   ]
  },
  {
   "cell_type": "markdown",
   "metadata": {},
   "source": [
    "Year-to-year ratios:"
   ]
  },
  {
   "cell_type": "code",
   "execution_count": 154,
   "metadata": {},
   "outputs": [
    {
     "name": "stdout",
     "output_type": "stream",
     "text": [
      "0.6317135549872123\n",
      "0.4089068825910931\n",
      "0.039603960396039604\n"
     ]
    }
   ],
   "source": [
    "print(mean_tx[1]/mean_tx[0])\n",
    "print(mean_tx[2]/mean_tx[1])\n",
    "print(mean_tx[3]/mean_tx[2])"
   ]
  },
  {
   "cell_type": "markdown",
   "metadata": {},
   "source": [
    "## 3c) Median"
   ]
  },
  {
   "cell_type": "code",
   "execution_count": 84,
   "metadata": {},
   "outputs": [],
   "source": [
    "median_tx = np.array([0] * 7)"
   ]
  },
  {
   "cell_type": "code",
   "execution_count": 85,
   "metadata": {},
   "outputs": [],
   "source": [
    "for x in range(len(years)):\n",
    "    median_tx[x] = df_samples[ \"tx\" + years[x]].median()"
   ]
  },
  {
   "cell_type": "code",
   "execution_count": 86,
   "metadata": {
    "scrolled": true
   },
   "outputs": [
    {
     "data": {
      "image/png": "[encoded data removed]",
      "text/plain": [
       "<Figure size 432x288 with 1 Axes>"
      ]
     },
     "metadata": {
      "needs_background": "light"
     },
     "output_type": "display_data"
    }
   ],
   "source": [
    "# plot bar chart\n",
    "plt.bar(years_num, median_tx)\n",
    "plt.xlabel('Year')\n",
    "plt.ylabel('Median Transaction')\n",
    "plt.title('Median of transactions over time')\n",
    "plt.show()"
   ]
  },
  {
   "cell_type": "markdown",
   "metadata": {},
   "source": [
    "## Part 4: Data Analysis on Samples from 2011"
   ]
  },
  {
   "cell_type": "markdown",
   "metadata": {},
   "source": [
    "* From our sum and mean graphs we can see that average and total activity of our sample addresses decreases dramatically over time. The first two years activity gets cut in half each year. \n",
    "* The graph of the median reinforces this drop-off. With the middle user becoming inactive after two years.\n",
    "* Simple observations of the values in our sample also show us that addresses with higher initial transactions their first year are more likely to maintain activity in the subsequent years."
   ]
  },
  {
   "cell_type": "markdown",
   "metadata": {},
   "source": [
    "## Part 5: Create Dataframe for Samples from 2014"
   ]
  },
  {
   "cell_type": "markdown",
   "metadata": {},
   "source": [
    "## 5a) Sample Address IDs created in 2014"
   ]
  },
  {
   "cell_type": "code",
   "execution_count": 87,
   "metadata": {},
   "outputs": [],
   "source": [
    "df_samples_2014 = pd.DataFrame(columns = ['address ID'])"
   ]
  },
  {
   "cell_type": "code",
   "execution_count": 88,
   "metadata": {},
   "outputs": [],
   "source": [
    "# get the largest address ID that is created in 2013\n",
    "max_addr_ID = data13['address ID'].max()"
   ]
  },
  {
   "cell_type": "code",
   "execution_count": 89,
   "metadata": {},
   "outputs": [],
   "source": [
    "# get the range of address ID that is created in 2014\n",
    "min_addr_ID = max_addr_ID + 1\n",
    "max_addr_ID = data14['address ID'].max()"
   ]
  },
  {
   "cell_type": "code",
   "execution_count": 90,
   "metadata": {},
   "outputs": [],
   "source": [
    "num_sample = 50\n",
    "lower_bound = 100\n",
    "count = 0\n",
    "\n",
    "while count < 50:\n",
    "    rand_sample_ID = rd.randint(min_addr_ID, max_addr_ID)\n",
    "    \n",
    "    df_ID_exclusive = data14[data14['address ID'] == rand_sample_ID]\n",
    "    \n",
    "    num_tx_2014 = len(df_ID_exclusive)\n",
    "    \n",
    "    if(num_tx_2014 >= lower_bound):\n",
    "        df_samples_2014.loc[count, 'address ID'] = rand_sample_ID\n",
    "        \n",
    "        count += 1"
   ]
  },
  {
   "cell_type": "code",
   "execution_count": 97,
   "metadata": {},
   "outputs": [],
   "source": [
    "df_samples_2014['address ID'] = df_samples_2014['address ID'].apply(int)"
   ]
  },
  {
   "cell_type": "markdown",
   "metadata": {},
   "source": [
    "## 5b) Aggregate Number of Transactions Each Year"
   ]
  },
  {
   "cell_type": "code",
   "execution_count": 99,
   "metadata": {},
   "outputs": [],
   "source": [
    "df_samples_2014['tx2014'] = 0\n",
    "\n",
    "for x in range(len(df_samples_2014)):\n",
    "    curr_addr_ID = df_samples_2014.loc[x]['address ID']\n",
    "    \n",
    "    df_ID_exclusive = data14[data14['address ID'] == curr_addr_ID]\n",
    "    \n",
    "    df_samples_2014.loc[x, 'tx2014'] = len(df_ID_exclusive)"
   ]
  },
  {
   "cell_type": "code",
   "execution_count": 100,
   "metadata": {},
   "outputs": [],
   "source": [
    "df_samples_2014['tx2015'] = 0\n",
    "\n",
    "for x in range(len(df_samples_2014)):\n",
    "    curr_addr_ID = df_samples_2014.loc[x]['address ID']\n",
    "    \n",
    "    df_ID_exclusive = data15[data15['address ID'] == curr_addr_ID]\n",
    "    \n",
    "    df_samples_2014.loc[x, 'tx2015'] = len(df_ID_exclusive)"
   ]
  },
  {
   "cell_type": "code",
   "execution_count": 101,
   "metadata": {},
   "outputs": [],
   "source": [
    "df_samples_2014['tx2016'] = 0\n",
    "\n",
    "for x in range(len(df_samples_2014)):\n",
    "    curr_addr_ID = df_samples_2014.loc[x]['address ID']\n",
    "    \n",
    "    df_ID_exclusive = data16[data16['address ID'] == curr_addr_ID]\n",
    "    \n",
    "    df_samples_2014.loc[x, 'tx2016'] = len(df_ID_exclusive)"
   ]
  },
  {
   "cell_type": "code",
   "execution_count": 102,
   "metadata": {},
   "outputs": [],
   "source": [
    "df_samples_2014['tx2017'] = 0\n",
    "\n",
    "for x in range(len(df_samples_2014)):\n",
    "    curr_addr_ID = df_samples_2014.loc[x]['address ID']\n",
    "    \n",
    "    df_ID_exclusive = data17[data17['address ID'] == curr_addr_ID]\n",
    "    \n",
    "    df_samples_2014.loc[x, 'tx2017'] = len(df_ID_exclusive)"
   ]
  },
  {
   "cell_type": "code",
   "execution_count": 103,
   "metadata": {},
   "outputs": [
    {
     "data": {
      "text/html": [
       "<div>\n",
       "<style scoped>\n",
       "    .dataframe tbody tr th:only-of-type {\n",
       "        vertical-align: middle;\n",
       "    }\n",
       "\n",
       "    .dataframe tbody tr th {\n",
       "        vertical-align: top;\n",
       "    }\n",
       "\n",
       "    .dataframe thead th {\n",
       "        text-align: right;\n",
       "    }\n",
       "</style>\n",
       "<table border=\"1\" class=\"dataframe\">\n",
       "  <thead>\n",
       "    <tr style=\"text-align: right;\">\n",
       "      <th></th>\n",
       "      <th>address ID</th>\n",
       "      <th>tx2014</th>\n",
       "      <th>tx2015</th>\n",
       "      <th>tx2016</th>\n",
       "      <th>tx2017</th>\n",
       "    </tr>\n",
       "  </thead>\n",
       "  <tbody>\n",
       "    <tr>\n",
       "      <th>0</th>\n",
       "      <td>55748240</td>\n",
       "      <td>168</td>\n",
       "      <td>389</td>\n",
       "      <td>0</td>\n",
       "      <td>0</td>\n",
       "    </tr>\n",
       "    <tr>\n",
       "      <th>1</th>\n",
       "      <td>37744477</td>\n",
       "      <td>124</td>\n",
       "      <td>0</td>\n",
       "      <td>0</td>\n",
       "      <td>0</td>\n",
       "    </tr>\n",
       "    <tr>\n",
       "      <th>2</th>\n",
       "      <td>36744451</td>\n",
       "      <td>232</td>\n",
       "      <td>0</td>\n",
       "      <td>0</td>\n",
       "      <td>18</td>\n",
       "    </tr>\n",
       "    <tr>\n",
       "      <th>3</th>\n",
       "      <td>57199041</td>\n",
       "      <td>234</td>\n",
       "      <td>0</td>\n",
       "      <td>0</td>\n",
       "      <td>3</td>\n",
       "    </tr>\n",
       "    <tr>\n",
       "      <th>4</th>\n",
       "      <td>32060213</td>\n",
       "      <td>118</td>\n",
       "      <td>152</td>\n",
       "      <td>0</td>\n",
       "      <td>5</td>\n",
       "    </tr>\n",
       "  </tbody>\n",
       "</table>\n",
       "</div>"
      ],
      "text/plain": [
       "   address ID  tx2014  tx2015  tx2016  tx2017\n",
       "0    55748240     168     389       0       0\n",
       "1    37744477     124       0       0       0\n",
       "2    36744451     232       0       0      18\n",
       "3    57199041     234       0       0       3\n",
       "4    32060213     118     152       0       5"
      ]
     },
     "execution_count": 103,
     "metadata": {},
     "output_type": "execute_result"
    }
   ],
   "source": [
    "df_samples_2014.head()"
   ]
  },
  {
   "cell_type": "markdown",
   "metadata": {},
   "source": [
    "## Part 6: Data Visualization of Sample from 2014"
   ]
  },
  {
   "cell_type": "markdown",
   "metadata": {},
   "source": [
    "## 6a) Sum"
   ]
  },
  {
   "cell_type": "code",
   "execution_count": 104,
   "metadata": {},
   "outputs": [],
   "source": [
    "years = np.array(['2014', '2015', '2016', '2017'])\n",
    "sum_tx_2014 = np.array([0] * 4)"
   ]
  },
  {
   "cell_type": "code",
   "execution_count": 105,
   "metadata": {},
   "outputs": [],
   "source": [
    "for x in range(len(years)):\n",
    "    sum_tx_2014[x] = df_samples_2014[ \"tx\" + years[x]].sum()"
   ]
  },
  {
   "cell_type": "code",
   "execution_count": 106,
   "metadata": {},
   "outputs": [],
   "source": [
    "years_num = [2014, 2015, 2016, 2017]"
   ]
  },
  {
   "cell_type": "code",
   "execution_count": 107,
   "metadata": {},
   "outputs": [
    {
     "data": {
      "image/png": "[encoded data removed]",
      "text/plain": [
       "<Figure size 432x288 with 1 Axes>"
      ]
     },
     "metadata": {
      "needs_background": "light"
     },
     "output_type": "display_data"
    }
   ],
   "source": [
    "# plot bar chart\n",
    "plt.bar(years_num, sum_tx_2014)\n",
    "plt.xlabel('Year')\n",
    "plt.ylabel('Total Transaction')\n",
    "plt.title('Sum of transactions over time')\n",
    "plt.show()"
   ]
  },
  {
   "cell_type": "markdown",
   "metadata": {},
   "source": [
    "## 6b) Mean"
   ]
  },
  {
   "cell_type": "code",
   "execution_count": 108,
   "metadata": {},
   "outputs": [],
   "source": [
    "mean_tx_2014 = np.array([0] * 4)"
   ]
  },
  {
   "cell_type": "code",
   "execution_count": 109,
   "metadata": {},
   "outputs": [],
   "source": [
    "for x in range(len(years)):\n",
    "    mean_tx_2014[x] = df_samples_2014[ \"tx\" + years[x]].mean()"
   ]
  },
  {
   "cell_type": "code",
   "execution_count": 110,
   "metadata": {},
   "outputs": [
    {
     "data": {
      "image/png": "[encoded data removed]",
      "text/plain": [
       "<Figure size 432x288 with 1 Axes>"
      ]
     },
     "metadata": {
      "needs_background": "light"
     },
     "output_type": "display_data"
    }
   ],
   "source": [
    "# plot bar chart\n",
    "plt.bar(years_num, mean_tx_2014)\n",
    "plt.xlabel('Year')\n",
    "plt.ylabel('Average Transaction')\n",
    "plt.title('Average of transactions over time')\n",
    "plt.show()"
   ]
  },
  {
   "cell_type": "markdown",
   "metadata": {},
   "source": [
    "Year-to-year ratios:"
   ]
  },
  {
   "cell_type": "code",
   "execution_count": 151,
   "metadata": {},
   "outputs": [
    {
     "name": "stdout",
     "output_type": "stream",
     "text": [
      "0.5129032258064516\n",
      "0.1320754716981132\n",
      "0.47619047619047616\n"
     ]
    }
   ],
   "source": [
    "print(mean_tx_2014[1]/mean_tx_2014[0])\n",
    "print(mean_tx_2014[2]/mean_tx_2014[1])\n",
    "print(mean_tx_2014[3]/mean_tx_2014[2])"
   ]
  },
  {
   "cell_type": "markdown",
   "metadata": {},
   "source": [
    "## 6c) Median"
   ]
  },
  {
   "cell_type": "code",
   "execution_count": 111,
   "metadata": {},
   "outputs": [],
   "source": [
    "median_tx_2014 = np.array([0] * 4)"
   ]
  },
  {
   "cell_type": "code",
   "execution_count": 112,
   "metadata": {},
   "outputs": [],
   "source": [
    "for x in range(len(years)):\n",
    "    median_tx_2014[x] = df_samples_2014[ \"tx\" + years[x]].median()"
   ]
  },
  {
   "cell_type": "code",
   "execution_count": 113,
   "metadata": {},
   "outputs": [
    {
     "data": {
      "image/png": "[encoded data removed]",
      "text/plain": [
       "<Figure size 432x288 with 1 Axes>"
      ]
     },
     "metadata": {
      "needs_background": "light"
     },
     "output_type": "display_data"
    }
   ],
   "source": [
    "# plot bar chart\n",
    "plt.bar(years_num, median_tx_2014)\n",
    "plt.xlabel('Year')\n",
    "plt.ylabel('Median Transaction')\n",
    "plt.title('Median of transactions over time')\n",
    "plt.show()"
   ]
  },
  {
   "cell_type": "markdown",
   "metadata": {},
   "source": [
    "## Part 7: Data Analysis on Samples from 2014"
   ]
  },
  {
   "cell_type": "markdown",
   "metadata": {},
   "source": [
    "* As we can see in our mean year-to-year ratios, there is a halving from 2014 to 2015. After that there is a steeper drop off from 2015 to 2016. And then another halving from 2016 to 2017.\n",
    "* The median graph shows that after one year the median has virtually no transactions."
   ]
  },
  {
   "cell_type": "markdown",
   "metadata": {},
   "source": [
    "## Part 8: Data Analysis on our sample groups"
   ]
  },
  {
   "cell_type": "markdown",
   "metadata": {},
   "source": [
    "* When we compare both samples we notice a harder drop off in activity with the 2014 group. This shows up in the median graphs where the 2011 sample maintains some usage, whereas the 2014 group has essentially no activity.\n",
    "* The year-to-year ratios also support the above point. The 2011 group's mean gets cut in half twice before facing a steeper drop. The 2014 group only gets cut in half once before falling off."
   ]
  },
  {
   "cell_type": "markdown",
   "metadata": {},
   "source": [
    "## Part 9: Privacy/Ethics Consideration"
   ]
  },
  {
   "cell_type": "markdown",
   "metadata": {},
   "source": [
    "In accordance with the Safe Harbor Method, we removed all account numbers from our data set and replaced them with an incrementing account number based on the order of appearance. Our data set does contain dates, but we do not consider this as an identifier because our unit of analysis is on the timescale of years. Which is too broad to be useful with the identification of Bitcoin users. "
   ]
  },
  {
   "cell_type": "markdown",
   "metadata": {},
   "source": [
    "## Part 10: Discussion & Conclusion"
   ]
  },
  {
   "cell_type": "code",
   "execution_count": null,
   "metadata": {},
   "outputs": [],
   "source": []
  },
  {
   "cell_type": "markdown",
   "metadata": {},
   "source": [
    "## Part 11: Each Member 's Contributions"
   ]
  },
  {
   "cell_type": "markdown",
   "metadata": {},
   "source": [
    "   As discussed earlier we have multiple revisions of our code base and sampling techniques. Emma, Lucas and Allen all worked equally on the codebase leading up to the last one. Allen did the final revision/rebuild of our code, while Emma and Lucas worked on the write up."
   ]
  },
  {
   "cell_type": "markdown",
   "metadata": {},
   "source": [
    "## References"
   ]
  },
  {
   "cell_type": "markdown",
   "metadata": {},
   "source": [
    "References (include links):\n",
    "\n",
    "1) https://senseable2015-6.mit.edu/bitcoin/  \n",
    "\n",
    "2) http://www.vo.elte.hu/bitcoin/  \n",
    "\n",
    "3) https://blockgeeks.com/guides/what-is-cryptocurrency/  \n",
    "\n",
    "4) https://www.forbes.com/sites/investor/2019/02/15/bitcoin-really-is-money-heres-why/#6d569bc479d2"
   ]
  },
  {
   "cell_type": "code",
   "execution_count": null,
   "metadata": {},
   "outputs": [],
   "source": []
  }
 ],
 "metadata": {
  "kernelspec": {
   "display_name": "Python 3",
   "language": "python",
   "name": "python3"
  },
  "language_info": {
   "codemirror_mode": {
    "name": "ipython",
    "version": 3
   },
   "file_extension": ".py",
   "mimetype": "text/x-python",
   "name": "python",
   "nbconvert_exporter": "python",
   "pygments_lexer": "ipython3",
   "version": "3.7.2"
  }
 },
 "nbformat": 4,
 "nbformat_minor": 2
}
