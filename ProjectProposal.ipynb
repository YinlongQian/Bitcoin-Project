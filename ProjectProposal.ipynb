{
 "cells": [
  {
   "cell_type": "markdown",
   "metadata": {},
   "source": [
    "# COGS 108 - Project Proposal"
   ]
  },
  {
   "cell_type": "markdown",
   "metadata": {},
   "source": [
    "## Important\n",
    "\n",
    "- Make sure all group members (3-6 people) are listed in the group members section.\n",
    "- ONE, and only one, member of your group should upload this notebook to TritonED. \n",
    "- Each member of the group will receive the same grade on this assignment. \n",
    "- Keep the file name the same: submit the file 'ProjectProposal.ipynb'"
   ]
  },
  {
   "cell_type": "markdown",
   "metadata": {},
   "source": [
    "## Overview"
   ]
  },
  {
   "cell_type": "markdown",
   "metadata": {},
   "source": [
    "Read the project description and detailed instructions for this assignment in the 'ProjectOutline' document."
   ]
  },
  {
   "cell_type": "markdown",
   "metadata": {},
   "source": [
    "## Group Members: Fill in the Student IDs of each group member here\n",
    "\n",
    "Replace the lines below to list each persons full student ID. Add lines as needed for your group size, and make sure each ID is listed on a separate line. \n",
    "\n",
    "- A92070847\n",
    "- A12009395\n",
    "- A13435306"
   ]
  },
  {
   "cell_type": "markdown",
   "metadata": {},
   "source": [
    "### Research Question\n",
    "\n",
    "What is your research question? (1-2 sentences)"
   ]
  },
  {
   "cell_type": "markdown",
   "metadata": {},
   "source": [
    "Are older/initial users increasingly more active using Bitcoin? Is the result consistent with the rise or decrease in popularity of cryptocurrency?"
   ]
  },
  {
   "cell_type": "markdown",
   "metadata": {},
   "source": [
    "### Hypothesis\n",
    "\n",
    "What is your main hypothesis and predictions? (2-3 sentences)"
   ]
  },
  {
   "cell_type": "markdown",
   "metadata": {},
   "source": [
    "Older users of Bitcoin will be more active in the network than newer users, through an increased rate of transactions and an expanded financial network. Higher activity would be consistent with the rise in popularity of cryptocurrency in the world, which is reported by media outlets and financial journals. "
   ]
  },
  {
   "cell_type": "markdown",
   "metadata": {},
   "source": [
    "### Dataset(s)\n",
    "\n",
    "What data will you use to answer your question? Describe the dataset(s) in terms of number of observations, what kind of features it contains, etc. You must use at least one dataset containing at least approximately 1000 observations (if your data are smaller but you feel they are sufficient, email Prof. Voytek). You are welcome (and in fact recommended) to find multiple datasets! If you do so, describe each one, and briefly explain how you will combine them together. "
   ]
  },
  {
   "cell_type": "markdown",
   "metadata": {},
   "source": [
    "- Dataset Name: MIT Bitcoin transaction inputs\n",
    "- Link to the dataset: https://senseable2015-6.mit.edu/bitcoin/\n",
    "- Number of observations: ~800 million\n",
    "\n",
    "- Dataset Name: MIT Bitcoin transaction outputs\n",
    "- Link to the dataset: https://senseable2015-6.mit.edu/bitcoin/\n",
    "- Number of observations: ~400 million\n",
    "\n",
    "Description and combination: \n",
    "We will combine the inputs and the outputs of each transaction in the dataset into a list of linked transactions where we can analyze the relationships between accounts. Since the Bitcoin transaction records are in chronological order, for each Bitcoin address sample we draw, we will use the timestamp of the first transaction to determine the age of the Bitcoin account, and then analyze the correlation between the ages of the Bitcoin Addresses and the rate of transactions of the Bitcoin Addresses. We expect to see that older Bitcoin users will have a higher rate of transactions than newer users, and that transaction rate for users will be increasing over time."
   ]
  },
  {
   "cell_type": "markdown",
   "metadata": {},
   "source": [
    "### Background and Prior Work\n",
    "\n",
    "Why is this question of interest, what background information led you to your hypothesis, and why is this important?\n",
    "\n",
    "Find some relevant prior work, and reference those sources. Even if you think you have a totally novel question, find the most similar prior work that you can and discuss how it relates to your project. \n",
    "\n",
    "References can be research publications, but they need not be. Blogs, github repositories, company websites, etc., are all viable references if they are relevant to your project.\n",
    "\n",
    "(2-3 paragraphs, including at least 2 references)"
   ]
  },
  {
   "cell_type": "markdown",
   "metadata": {},
   "source": [
    "Cryptocurrency was majorly introduced and acknowledged only recently in the 21st century. It is a concept that continues to remain a mystery for most people, and yet is steadily gaining popularity and increasing usership, especially among major financial institutions such as banks, governments, and large tech companies. In fact, nearly all major financial firms and prominent software companies have by now performed substantial research on various types of cryptocurrency. This suggests a question of whether cryptocurrency will soon become the foundation of the world’s economy, or in the very least be a widely used form of currency among people in the near future.\n",
    "\n",
    "According to Forbes, a cryptocurrency such as Bitcoin will gradually rise in popularity and will become a widespread form of commonly used currency because of its reliability, in that it can’t be bounced or charged back, and works 24/7, 365 days a year. It is easily accessible during emergencies, such as earthquakes and hurricanes, while a bank could be shut down. Researchers at MIT have performed extensive analysis of the same datasets we will be using, coming to the conclusion that powerful Bitcoin users form advanced financial networks to significantly expand their wealth. This information would suggest that users would be increasing their activity using Bitcoin, and therefore lead to the logical hypothesis that older users are steadily becoming more active using the Bitcoin platform. \n",
    "\n",
    "\n",
    "References (include links):\n",
    "- 1) https://senseable2015-6.mit.edu/bitcoin/\n",
    "- 2) http://www.vo.elte.hu/bitcoin/\n",
    "- 3) https://blockgeeks.com/guides/what-is-cryptocurrency/\n",
    "- 4) https://www.forbes.com/sites/investor/2019/02/15/bitcoin-really-is-money-heres-why/#6d569bc479d2"
   ]
  },
  {
   "cell_type": "markdown",
   "metadata": {},
   "source": [
    "### Proposed Methods\n",
    "\n",
    "What methods will you use to analyze your data?\n",
    "\n",
    "- How 'clean' is the data? To the extent that it requires cleaning, how will you do so?\n",
    "- How will you analyze the data? Be as specific as you can. Briefly mention any pre-processing steps that are required for your methods (for example, checking data distributions and performing any transformations that may be required). Include a brief outline of how you will apply your chosen method(s). \n",
    "- What do you plan to report? Briefly mention any key visualizations you plan to create, and/or the kind of results you will be able to report that address your question (this could be, for example, the outcome of some statistical test(s), prediction error on a model, a model fit parameter, etc.).\n",
    "- Include a list of packages you expect to use for you project. If you plan to use packages we have not used in class, add a very brief description about them (a few words is sufficient). "
   ]
  },
  {
   "cell_type": "markdown",
   "metadata": {},
   "source": [
    "Data Cleaning:\n",
    "Bitcoin uses a change based system where a user breaks up whole Bitcoins into pieces in order to spend them. When it comes time to spend Bitcoins the wallet software will round up as much change as it can and send it to the recipient. Our datasets show the change being sent. This clutters the data and is unnecessary for our analysis. We will clean the data by consolidating the change into a single value. As the dataset is much too large to process and analyze, we will analyze only a certain number of Bitcoin addresses by doing the following steps: set a certain number of  groups, each of which corresponds to a time interval; divide the Bitcoin addresses in the dataset into the groups according to the timestamp of the first transaction; randomly draw a certain number of samples from each group. Then we gather all the transaction information in the dataset for all the sample we draw.\n",
    "\n",
    "Data Analysis:\n",
    "We must check the distributions of amount of Bitcoin, and the quantity of transactions for every address in the sample. We can do this with pandas. This step will give us clues as to how users activity is distributed. We can then plot the age of account against number of transactions and the account balance. With the data we can perform a linear regression, and plot the line of best fit.\n",
    "\n",
    "What to report:\n",
    "We will plot the histograms of the distributions described above. We will also plot the the age of account against funds in the account and quantity of transactions. We can use the regression model to predict its error.\n",
    "\n",
    "Packages we plan to use:\n",
    "- a Pandas: \n",
    "We can use this for histograms and plotting, as well as pre-processing the data in an organized and efficient manner.\n",
    "\n",
    "- b D3: \n",
    "We may use this for more beautiful visualizations if given the time."
   ]
  },
  {
   "cell_type": "markdown",
   "metadata": {},
   "source": [
    "### Ethics and Privacy\n",
    "\n",
    "Briefly acknowledge and address any potential issues of ethics and privacy for the proposed project. In particular:\n",
    "- Do you have permission to use this data, for this purpose?\n",
    "- Are there privacy concerns regarding your datasets that you need to deal with, and/or terms of use that you need to comply with?\n",
    "- Are there potential biases in your dataset(s), in terms of who it composes, and how it was collected, that may be problematic in terms of it allowing for equitable analysis? (For example, does your data exclude particular populations, or is it likely to reflect particular human biases in a way that could be a problem?) \n",
    "- Are there any other issues related to your topic area, data, and/or analyses that are potentially problematic in terms of data privacy and equitable impact?\n",
    "- How will you handle any issues you identify?\n",
    "\n",
    "(1-2 paragraphs)\n",
    "\n",
    "This dataset is publicly available across several websites, including that of MIT that published its findings on Bitcoin research. User information is entirely anonymous, with the user’s address encrypted with a code, and this serving as the only user identifier. This data has been released to the public for research purposes, and analyzing it does not pose ethical violations. \n",
    "The dataset contains every single Bitcoin transaction, beginning with the release of Bitcoin to the public and up to approximately February 9, 2008. This eliminates the possibility of bias within the data collection method, as the dataset contains all of the existing information. As we will only be using a subset of this large dataset, we will be using random selection of users to ensure that our subset is a valid representation of the original dataset. This being said, this dataset obviously only contains information on Bitcoin user transaction. While the results of this analysis could provide insight into trends in the tech community, it may not be generalizable to the entire US or world population, as the majority of Bitcoin users are likely highly educated in the world of technology or finance. \n",
    "However, an understanding of whether Bitcoin users are more actively using the platform may be a strong foundation for deducing whether cryptocurrency may be more widely adopted by the general population in the world. "
   ]
  },
  {
   "cell_type": "markdown",
   "metadata": {},
   "source": [
    "### Discussion\n",
    "\n",
    "Discuss your project, looking forward to what your results might mean, how they fit it in with what is already known, and what problems you may encounter. \n",
    "\n",
    "In particular:\n",
    "- If your analyses and hypotheses are correct, what will be the contribution of this project to the topic domain? \n",
    "- Alternatively, what will you do if you methods don't work and/or your hypotheses are wrong? \n",
    "- What are the potential pitfalls and potential confounds of your data and/or methods that may cause problems, and/or influence your interpretations?\n",
    "\n",
    "(2-3 paragraphs)"
   ]
  },
  {
   "cell_type": "markdown",
   "metadata": {},
   "source": [
    "If our hypothesis is correct we will make two contributions to the cryptocurrency field. We will have provided a useful framework for predicting the activity of Bitcoin accounts through time. This framework may also be applied to other cryptocurrency networks. Using our regression model we can also view trends in the activity of the entire Bitcoin network. Showing if there is an increase or decrease in usage in the total population. \n",
    "\n",
    "If our methods did not work there may be more variables worth looking at with regards to usage. There are possible confounds with regards to the continuously moving exchange rate between fiat (United States Dollars, Euros, etc) and Bitcoin. It may be required to convert Bitcoin to fiat to improve the study. "
   ]
  }
 ],
 "metadata": {
  "kernelspec": {
   "display_name": "Python 3",
   "language": "python",
   "name": "python3"
  },
  "language_info": {
   "codemirror_mode": {
    "name": "ipython",
    "version": 3
   },
   "file_extension": ".py",
   "mimetype": "text/x-python",
   "name": "python",
   "nbconvert_exporter": "python",
   "pygments_lexer": "ipython3",
   "version": "3.7.1"
  }
 },
 "nbformat": 4,
 "nbformat_minor": 2
}
